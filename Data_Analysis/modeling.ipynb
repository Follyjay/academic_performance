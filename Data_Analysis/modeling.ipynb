{
  "nbformat": 4,
  "nbformat_minor": 0,
  "metadata": {
    "colab": {
      "provenance": []
    },
    "kernelspec": {
      "name": "python3",
      "display_name": "Python 3"
    },
    "language_info": {
      "name": "python"
    }
  },
  "cells": [
    {
      "cell_type": "code",
      "execution_count": 1,
      "metadata": {
        "id": "Aqrs1nU81Tot"
      },
      "outputs": [],
      "source": [
        "import pandas as pd\n",
        "import numpy as np\n",
        "import matplotlib.pyplot as plt\n",
        "import seaborn as sns\n",
        "import warnings\n",
        "warnings.filterwarnings('ignore')\n",
        "\n",
        "from sklearn.impute import SimpleImputer\n",
        "from sklearn.preprocessing import OneHotEncoder, StandardScaler\n",
        "from sklearn.ensemble import RandomForestRegressor, GradientBoostingRegressor\n",
        "from sklearn.model_selection import  train_test_split\n",
        "from sklearn.ensemble import RandomForestRegressor\n",
        "from sklearn.linear_model import Ridge\n",
        "from sklearn.svm import SVR\n",
        "from sklearn.linear_model import ElasticNet\n",
        "from sklearn.preprocessing import StandardScaler, PolynomialFeatures\n",
        "from sklearn.tree import DecisionTreeRegressor\n",
        "from sklearn.linear_model import LinearRegression\n",
        "from sklearn.metrics import mean_absolute_error, mean_squared_error, r2_score"
      ]
    },
    {
      "cell_type": "code",
      "source": [
        "from google.colab import drive\n",
        "drive.mount('/content/drive')\n",
        "\n",
        "!ls '/content/drive/MyDrive/datasets'"
      ],
      "metadata": {
        "colab": {
          "base_uri": "https://localhost:8080/"
        },
        "id": "9u9cpqo05tpa",
        "outputId": "667573b9-8d55-4a50-d833-9382b1ac1fa3"
      },
      "execution_count": 2,
      "outputs": [
        {
          "output_type": "stream",
          "name": "stdout",
          "text": [
            "Mounted at /content/drive\n",
            "dataset_four.csv  dataset_one.csv  dataset_three.csv  dataset_two.csv\n"
          ]
        }
      ]
    },
    {
      "cell_type": "code",
      "source": [
        "d1 = pd.read_csv('/content/drive/MyDrive/datasets/dataset_one.csv')\n",
        "d2 = pd.read_csv('/content/drive/MyDrive/datasets/dataset_two.csv')\n",
        "d3 = pd.read_csv('/content/drive/MyDrive/datasets/dataset_three.csv')\n",
        "d4 = pd.read_csv('/content/drive/MyDrive/datasets/dataset_four.csv')"
      ],
      "metadata": {
        "id": "4uzaFwhY5yey"
      },
      "execution_count": 3,
      "outputs": []
    },
    {
      "cell_type": "code",
      "source": [
        "d1['id'] = range(1, 2566)\n",
        "d2['id'] = range(1, 137)\n",
        "d3['id'] = range(1, 1076)\n",
        "d4['id'] = range(1, 396)"
      ],
      "metadata": {
        "id": "EjqQT8Bv511w"
      },
      "execution_count": 4,
      "outputs": []
    },
    {
      "cell_type": "code",
      "source": [
        "data = pd.merge(d1, d2, how='inner', on='id')\n",
        "data = pd.merge(data, d3, how='inner', on='id')\n",
        "data = pd.merge(data, d4, how='inner', on='id')"
      ],
      "metadata": {
        "id": "BR9sfncV55gn"
      },
      "execution_count": 5,
      "outputs": []
    },
    {
      "cell_type": "code",
      "source": [
        "data = data[['age_x', 'Gender', 'major_y', 'origin', 'Total Hours in Module Area', 'romantic', 'final' ]]\n",
        "data = data.rename(columns={'age_x':'Age', 'major_y':'Undergrad', 'origin':'Nationality', 'Total Hours in Module Area':'hoursOfWork', 'romantic':'maritalStatus', 'final':'Grade'})"
      ],
      "metadata": {
        "id": "9rtFtmd458Ff"
      },
      "execution_count": 6,
      "outputs": []
    },
    {
      "cell_type": "code",
      "source": [
        "data['Undergrad'] = data['Undergrad'].replace({'Natural Resources and Conservation':'Social Sciences', 'Communication, Journalism':'Communications Technologies', 'Communications Technologies/Technicians':'Communications Technologies', 'Construction Trades':'Engineering', 'Engineering Technologies/Technicians':'Engineering', 'Mechanic and Repair Technologies/Technicians':'Engineering', 'Military Technologies':'Engineering'})\n",
        "data['Undergrad'] = data['Undergrad'].replace({'Transportation and Materials Moving':'Transportation & Logistics', 'Architecture':'Engineering', 'Residency Programs':'Social Sciences', 'English Language and Literature/Letters':'Language & Literature', 'Foreign Languages, Literatures and Linguistics':'Language & Literature', 'Theology and Religious Vocations':'Philosophy and Religious Studies', 'Intensive English':'Language & Literature', 'Homeland Security, Law Enforcement, and Firefighting':'Social Sciences'})\n",
        "data['Undergrad'] = data['Undergrad'].replace({'Computer and Information Sciences':'Communications Technologies', 'Basic Skills':'Social Sciences', 'Family and Consumer Sciences/Human Sciences':'Social Sciences', 'Liberal Arts and Sciences/General Studies':'General Studies', 'Multi/Interdisciplinary Studies':'General Studies', 'Parks, Recreation, Leisure and Fitness Studies':'Social Sciences', 'Personal and Culinary Services':'Culinary Service', 'Reserve Officer Training Corps':'Social Sciences', 'Science Technologies/Technicians':'Communications Technologies', 'Area, Ethnic, Cultural and Gender Studies':'General Studies', 'History':'Languge & Literature'})\n",
        "data['Undergrad'] = data['Undergrad'].replace({'Languge & Literature':'Language & Literature', 'Psychology':'Health Professions', 'Public Administration and Social Service Professions':'Social Sciences', 'Undeclared':'Social Sciences', 'Precision Production':'Agriculture', 'Philosophy and Religious Studies':'Language & Literature', 'Physical Sciences':'Health Professions'})"
      ],
      "metadata": {
        "id": "-rlXEP2Q5-vZ"
      },
      "execution_count": 7,
      "outputs": []
    },
    {
      "cell_type": "code",
      "source": [
        "data['Nationality'] = data['Nationality'].replace({'Africa, Subsaharan, Unspecified':'Africa', 'Cameroon':'Africa', 'Central Africa, Unspecified':'Africa', 'Central African Republic':'Africa', 'Chad':'Africa', 'Congo, Dem. Rep. of the (Kinshasa)':'Africa', 'Congo, Republic of the (Brazzaville)':'Africa', 'Equatorial Guinea':'Africa', 'Gabon':'Africa', 'SÃ£o TomÃ© and PrÃ\\xadncipe':'Africa', 'Burundi':'Africa', 'Djibouti':'Africa', 'East Africa, Unspecified':'Africa', 'Eritrea':'Africa', 'Ethiopia':'Africa', 'Kenya':'Africa', 'Rwanda':'Africa', 'Seychelles':'Africa', 'Somalia':'Africa', 'Sudan':'Africa', 'Tanzania':'Africa', 'Trinidad and Tobago':'Africa'})\n",
        "data['Nationality'] = data['Nationality'].replace({'Asia, Unspecified':'Asia', 'Anguilla':'Asia', 'Antigua and Barbuda':'Asia', 'Aruba':'Asia', 'Haiti':'Asia', 'Bahamas':'North America', 'Dominica':'North America', 'Dominican Republic':'North America', 'Grenada':'North America', 'Jamaica':'North America', 'Cayman Islands':'North America', 'Cuba':'North America', 'Guadeloupe':'North America', 'Martinique':'North America', 'Montserrat':'North America', 'St. Kitts and Nevis':'North America', 'St. Lucia':'North America', 'St. Vincent and the Grenadines':'North America', 'Turks and Caicos':'North America', 'Barbados':'North America', 'British Virgin Islands':'North America', 'Caribbean, Unspecified':'North America', 'Netherlands Antilles':'Europe','Bermuda':'Europe'})\n",
        "data['Nationality'] = data['Nationality'].replace(['Uganda', 'Algeria', 'Egypt', 'Libya', 'Morocco', 'North Africa, Unspecified', 'Tunisia', 'Western Sahara', 'Angola', 'Botswana', 'Comoros', 'Eswatini', 'Lesotho', 'Madagascar', 'Malawi', 'Mauritius', 'Mozambique', 'Namibia', 'Reunion', 'South Africa', 'Southern Africa, Unspecified', 'Zambia', 'Zimbabwe', 'Stateless', 'Benin', 'Burkina Faso', 'Cabo Verde', 'CÃ´te dâ€™Ivoire', 'Gambia, The', 'Ghana', 'Guinea', 'GuineaBissau', 'Liberia', 'Mali', 'Mauritania', 'Niger', 'Nigeria', 'Saint Helena', 'Senegal', 'Sierra Leone', 'Togo', 'West Africa, Unspecified', 'TimorLeste'], 'Africa')\n",
        "data['Nationality'] = data['Nationality'].replace(['China', 'East Asia, Unspecified', 'Hong Kong', 'Japan', 'Macau', 'Mongolia', 'North Korea', 'South Korea', 'Taiwan', 'Armenia', 'Turkey', 'Bahrain', 'Iran', 'Iraq', 'Israel', 'Jordan', 'Kuwait', 'Lebanon', 'Middle East, Unspecified', 'Oman', 'Palestinian Territories', 'Qatar', 'Saudi Arabia', 'Syria', 'United Arab Emirates', 'Yemen', 'Afghanistan', 'Bangladesh', 'Bhutan', 'India', 'Kazakhstan', 'Kyrgyzstan', 'Maldives', 'Nepal', 'Pakistan', 'South and Central Asia, Unspecified', 'Sri Lanka', 'Tajikistan', 'Turkmenistan', 'Uzbekistan', 'Brunei', 'Burma/Myanmar', 'Cambodia', 'Indonesia', 'Laos', 'Malaysia', 'Philippines', 'Singapore', 'Southeast Asia, Unspecified', 'Thailand', 'Vietnam'], 'Asia')\n",
        "data['Nationality'] = data['Nationality'].replace(['Azerbaijan', 'Belarus', 'Belgium', 'Bosnia and Herzegovina', 'Bulgaria', 'Croatia', 'Cyprus', 'Czechia/Czech Republic', 'Czechoslovakia, Former', 'Denmark', 'Estonia', 'Europe, Unspecified', 'Finland', 'France', 'Georgia', 'Germany', 'Gibraltar', 'Greece', 'Holy See', 'Hungary', 'Iceland', 'Ireland', 'Italy', 'Kosovo', 'Latvia', 'Liechtenstein', 'Lithuania', 'Luxembourg', 'Malta', 'Moldova', 'Monaco', 'Netherlands', 'North Macedonia', 'Norway', 'Poland', 'Portugal', 'Romania', 'Russia', 'San Marino', 'Serbia and Montenegro', 'Slovakia', 'Slovenia', 'Spain', 'Sweden', 'Switzerland', 'U.S.S.R., Former', 'Ukraine', 'United Kingdom', 'Albania', 'Andorra', 'Austria'], 'Europe')\n",
        "data['Nationality'] = data['Nationality'].replace(['Yugoslavia, Former', 'Latin America and Caribbean, Unspecified', 'Belize', 'Costa Rica', 'El Salvador', 'Guatemala', 'Honduras', 'Mexico', 'Mexico and Central America, Unspecified', 'Nicaragua', 'Panama', 'Canada', 'Australia'], 'North America')\n",
        "data['Nationality'] = data['Nationality'].replace(['Argentina', 'Bolivia', 'Brazil', 'Chile', 'Colombia', 'Ecuador', 'Falkland Islands/Islas Malvinas', 'French Guiana', 'Guyana', 'Paraguay', 'Peru', 'South America, Unspecified', 'Suriname', 'Uruguay', 'Venezuela'], 'South America')\n",
        "data['Nationality'] = data['Nationality'].replace(['Cook Islands', 'Fiji', 'French Polynesia', 'Kiribati', 'Marshall Islands, Republic of the', 'Micronesia, Federate States of ', 'Nauru', 'New Caledonia', 'New Zealand', 'Niue', 'Norfolk Island', 'Pacific Islands, Unspecified', 'Palau', 'Papua New Guinea', 'Samoa', 'Solomon Islands', 'Tonga', 'Tuvalu', 'Vanuatu', 'Wallis and Futuna'], 'Oceania')"
      ],
      "metadata": {
        "id": "QSE3zdPR6B-A"
      },
      "execution_count": 8,
      "outputs": []
    },
    {
      "cell_type": "code",
      "source": [
        "data['Nationality'].value_counts()"
      ],
      "metadata": {
        "colab": {
          "base_uri": "https://localhost:8080/"
        },
        "id": "dvWrIuda6_sP",
        "outputId": "9462d6a4-b1f8-4b87-b6b8-6b57d8318609"
      },
      "execution_count": 9,
      "outputs": [
        {
          "output_type": "execute_result",
          "data": {
            "text/plain": [
              "Nationality\n",
              "Africa           64\n",
              "North America    51\n",
              "Asia             15\n",
              "Europe            6\n",
              "Name: count, dtype: int64"
            ]
          },
          "metadata": {},
          "execution_count": 9
        }
      ]
    },
    {
      "cell_type": "code",
      "source": [
        "data['Grade'] = data['Grade'].apply(lambda x: 30 if x == 12 else x)\n",
        "data['Grade'] = data['Grade'].apply(lambda x: 40 if x == 2 else x)\n",
        "data['Grade'] = data['Grade'].apply(lambda x: 53 if x == 15 else x)\n",
        "data['Grade'] = data['Grade'].apply(lambda x: 43 if x == 0 else x)\n",
        "data['Grade'] = data['Grade'].apply(lambda x: 42 if x == 11 else x)\n",
        "data['Grade'] = data['Grade'].apply(lambda x: 51 if x == 18 else x)\n",
        "data['Grade'] = data['Grade'].apply(lambda x: 35 if x == 17 else x)\n",
        "data['Grade'] = data['Grade'].apply(lambda x: 39 if x == 16 else x)\n",
        "data['Grade'] = data['Grade'].apply(lambda x: 38 if x == 14 else x)\n",
        "data['Grade'] = data['Grade'].apply(lambda x: 80 if x == 13 else x)\n",
        "data['Grade'] = data['Grade'].apply(lambda x: 75 if x == 24 else x)\n",
        "data['Grade'] = data['Grade'].apply(lambda x: 85 if x == 27 else x)\n",
        "data['Grade'] = data['Grade'].apply(lambda x: 34 if x == 6 else x)\n",
        "data['Grade'] = data['Grade'].apply(lambda x: 52 if x == 8 else x)"
      ],
      "metadata": {
        "id": "LNTHp55UNeDZ"
      },
      "execution_count": null,
      "outputs": []
    },
    {
      "cell_type": "code",
      "source": [
        "data.head(5)"
      ],
      "metadata": {
        "colab": {
          "base_uri": "https://localhost:8080/",
          "height": 206
        },
        "id": "0QnAP38N8tTR",
        "outputId": "b7165944-ce9e-4cd8-f306-473a60e7af2a"
      },
      "execution_count": null,
      "outputs": [
        {
          "output_type": "execute_result",
          "data": {
            "text/plain": [
              "   Age  Gender                    Undergrad Nationality  hoursOfWork  \\\n",
              "0   27    male                  Agriculture      Africa        24.25   \n",
              "1   45    male              Social Sciences      Africa        12.51   \n",
              "2   39  female      Business and Management      Africa         9.29   \n",
              "3   37  female  Communications Technologies        Asia        16.38   \n",
              "4   32    male  Communications Technologies        Asia        13.26   \n",
              "\n",
              "  maritalStatus  Grade  \n",
              "0            no     70  \n",
              "1            no     64  \n",
              "2            no     71  \n",
              "3           yes     59  \n",
              "4            no     64  "
            ],
            "text/html": [
              "\n",
              "  <div id=\"df-1056d3f7-ad50-4198-8cca-2f600f8b324e\" class=\"colab-df-container\">\n",
              "    <div>\n",
              "<style scoped>\n",
              "    .dataframe tbody tr th:only-of-type {\n",
              "        vertical-align: middle;\n",
              "    }\n",
              "\n",
              "    .dataframe tbody tr th {\n",
              "        vertical-align: top;\n",
              "    }\n",
              "\n",
              "    .dataframe thead th {\n",
              "        text-align: right;\n",
              "    }\n",
              "</style>\n",
              "<table border=\"1\" class=\"dataframe\">\n",
              "  <thead>\n",
              "    <tr style=\"text-align: right;\">\n",
              "      <th></th>\n",
              "      <th>Age</th>\n",
              "      <th>Gender</th>\n",
              "      <th>Undergrad</th>\n",
              "      <th>Nationality</th>\n",
              "      <th>hoursOfWork</th>\n",
              "      <th>maritalStatus</th>\n",
              "      <th>Grade</th>\n",
              "    </tr>\n",
              "  </thead>\n",
              "  <tbody>\n",
              "    <tr>\n",
              "      <th>0</th>\n",
              "      <td>27</td>\n",
              "      <td>male</td>\n",
              "      <td>Agriculture</td>\n",
              "      <td>Africa</td>\n",
              "      <td>24.25</td>\n",
              "      <td>no</td>\n",
              "      <td>70</td>\n",
              "    </tr>\n",
              "    <tr>\n",
              "      <th>1</th>\n",
              "      <td>45</td>\n",
              "      <td>male</td>\n",
              "      <td>Social Sciences</td>\n",
              "      <td>Africa</td>\n",
              "      <td>12.51</td>\n",
              "      <td>no</td>\n",
              "      <td>64</td>\n",
              "    </tr>\n",
              "    <tr>\n",
              "      <th>2</th>\n",
              "      <td>39</td>\n",
              "      <td>female</td>\n",
              "      <td>Business and Management</td>\n",
              "      <td>Africa</td>\n",
              "      <td>9.29</td>\n",
              "      <td>no</td>\n",
              "      <td>71</td>\n",
              "    </tr>\n",
              "    <tr>\n",
              "      <th>3</th>\n",
              "      <td>37</td>\n",
              "      <td>female</td>\n",
              "      <td>Communications Technologies</td>\n",
              "      <td>Asia</td>\n",
              "      <td>16.38</td>\n",
              "      <td>yes</td>\n",
              "      <td>59</td>\n",
              "    </tr>\n",
              "    <tr>\n",
              "      <th>4</th>\n",
              "      <td>32</td>\n",
              "      <td>male</td>\n",
              "      <td>Communications Technologies</td>\n",
              "      <td>Asia</td>\n",
              "      <td>13.26</td>\n",
              "      <td>no</td>\n",
              "      <td>64</td>\n",
              "    </tr>\n",
              "  </tbody>\n",
              "</table>\n",
              "</div>\n",
              "    <div class=\"colab-df-buttons\">\n",
              "\n",
              "  <div class=\"colab-df-container\">\n",
              "    <button class=\"colab-df-convert\" onclick=\"convertToInteractive('df-1056d3f7-ad50-4198-8cca-2f600f8b324e')\"\n",
              "            title=\"Convert this dataframe to an interactive table.\"\n",
              "            style=\"display:none;\">\n",
              "\n",
              "  <svg xmlns=\"http://www.w3.org/2000/svg\" height=\"24px\" viewBox=\"0 -960 960 960\">\n",
              "    <path d=\"M120-120v-720h720v720H120Zm60-500h600v-160H180v160Zm220 220h160v-160H400v160Zm0 220h160v-160H400v160ZM180-400h160v-160H180v160Zm440 0h160v-160H620v160ZM180-180h160v-160H180v160Zm440 0h160v-160H620v160Z\"/>\n",
              "  </svg>\n",
              "    </button>\n",
              "\n",
              "  <style>\n",
              "    .colab-df-container {\n",
              "      display:flex;\n",
              "      gap: 12px;\n",
              "    }\n",
              "\n",
              "    .colab-df-convert {\n",
              "      background-color: #E8F0FE;\n",
              "      border: none;\n",
              "      border-radius: 50%;\n",
              "      cursor: pointer;\n",
              "      display: none;\n",
              "      fill: #1967D2;\n",
              "      height: 32px;\n",
              "      padding: 0 0 0 0;\n",
              "      width: 32px;\n",
              "    }\n",
              "\n",
              "    .colab-df-convert:hover {\n",
              "      background-color: #E2EBFA;\n",
              "      box-shadow: 0px 1px 2px rgba(60, 64, 67, 0.3), 0px 1px 3px 1px rgba(60, 64, 67, 0.15);\n",
              "      fill: #174EA6;\n",
              "    }\n",
              "\n",
              "    .colab-df-buttons div {\n",
              "      margin-bottom: 4px;\n",
              "    }\n",
              "\n",
              "    [theme=dark] .colab-df-convert {\n",
              "      background-color: #3B4455;\n",
              "      fill: #D2E3FC;\n",
              "    }\n",
              "\n",
              "    [theme=dark] .colab-df-convert:hover {\n",
              "      background-color: #434B5C;\n",
              "      box-shadow: 0px 1px 3px 1px rgba(0, 0, 0, 0.15);\n",
              "      filter: drop-shadow(0px 1px 2px rgba(0, 0, 0, 0.3));\n",
              "      fill: #FFFFFF;\n",
              "    }\n",
              "  </style>\n",
              "\n",
              "    <script>\n",
              "      const buttonEl =\n",
              "        document.querySelector('#df-1056d3f7-ad50-4198-8cca-2f600f8b324e button.colab-df-convert');\n",
              "      buttonEl.style.display =\n",
              "        google.colab.kernel.accessAllowed ? 'block' : 'none';\n",
              "\n",
              "      async function convertToInteractive(key) {\n",
              "        const element = document.querySelector('#df-1056d3f7-ad50-4198-8cca-2f600f8b324e');\n",
              "        const dataTable =\n",
              "          await google.colab.kernel.invokeFunction('convertToInteractive',\n",
              "                                                    [key], {});\n",
              "        if (!dataTable) return;\n",
              "\n",
              "        const docLinkHtml = 'Like what you see? Visit the ' +\n",
              "          '<a target=\"_blank\" href=https://colab.research.google.com/notebooks/data_table.ipynb>data table notebook</a>'\n",
              "          + ' to learn more about interactive tables.';\n",
              "        element.innerHTML = '';\n",
              "        dataTable['output_type'] = 'display_data';\n",
              "        await google.colab.output.renderOutput(dataTable, element);\n",
              "        const docLink = document.createElement('div');\n",
              "        docLink.innerHTML = docLinkHtml;\n",
              "        element.appendChild(docLink);\n",
              "      }\n",
              "    </script>\n",
              "  </div>\n",
              "\n",
              "\n",
              "<div id=\"df-884d8163-e86c-4aa6-8064-04b20c0b7fe3\">\n",
              "  <button class=\"colab-df-quickchart\" onclick=\"quickchart('df-884d8163-e86c-4aa6-8064-04b20c0b7fe3')\"\n",
              "            title=\"Suggest charts\"\n",
              "            style=\"display:none;\">\n",
              "\n",
              "<svg xmlns=\"http://www.w3.org/2000/svg\" height=\"24px\"viewBox=\"0 0 24 24\"\n",
              "     width=\"24px\">\n",
              "    <g>\n",
              "        <path d=\"M19 3H5c-1.1 0-2 .9-2 2v14c0 1.1.9 2 2 2h14c1.1 0 2-.9 2-2V5c0-1.1-.9-2-2-2zM9 17H7v-7h2v7zm4 0h-2V7h2v10zm4 0h-2v-4h2v4z\"/>\n",
              "    </g>\n",
              "</svg>\n",
              "  </button>\n",
              "\n",
              "<style>\n",
              "  .colab-df-quickchart {\n",
              "      --bg-color: #E8F0FE;\n",
              "      --fill-color: #1967D2;\n",
              "      --hover-bg-color: #E2EBFA;\n",
              "      --hover-fill-color: #174EA6;\n",
              "      --disabled-fill-color: #AAA;\n",
              "      --disabled-bg-color: #DDD;\n",
              "  }\n",
              "\n",
              "  [theme=dark] .colab-df-quickchart {\n",
              "      --bg-color: #3B4455;\n",
              "      --fill-color: #D2E3FC;\n",
              "      --hover-bg-color: #434B5C;\n",
              "      --hover-fill-color: #FFFFFF;\n",
              "      --disabled-bg-color: #3B4455;\n",
              "      --disabled-fill-color: #666;\n",
              "  }\n",
              "\n",
              "  .colab-df-quickchart {\n",
              "    background-color: var(--bg-color);\n",
              "    border: none;\n",
              "    border-radius: 50%;\n",
              "    cursor: pointer;\n",
              "    display: none;\n",
              "    fill: var(--fill-color);\n",
              "    height: 32px;\n",
              "    padding: 0;\n",
              "    width: 32px;\n",
              "  }\n",
              "\n",
              "  .colab-df-quickchart:hover {\n",
              "    background-color: var(--hover-bg-color);\n",
              "    box-shadow: 0 1px 2px rgba(60, 64, 67, 0.3), 0 1px 3px 1px rgba(60, 64, 67, 0.15);\n",
              "    fill: var(--button-hover-fill-color);\n",
              "  }\n",
              "\n",
              "  .colab-df-quickchart-complete:disabled,\n",
              "  .colab-df-quickchart-complete:disabled:hover {\n",
              "    background-color: var(--disabled-bg-color);\n",
              "    fill: var(--disabled-fill-color);\n",
              "    box-shadow: none;\n",
              "  }\n",
              "\n",
              "  .colab-df-spinner {\n",
              "    border: 2px solid var(--fill-color);\n",
              "    border-color: transparent;\n",
              "    border-bottom-color: var(--fill-color);\n",
              "    animation:\n",
              "      spin 1s steps(1) infinite;\n",
              "  }\n",
              "\n",
              "  @keyframes spin {\n",
              "    0% {\n",
              "      border-color: transparent;\n",
              "      border-bottom-color: var(--fill-color);\n",
              "      border-left-color: var(--fill-color);\n",
              "    }\n",
              "    20% {\n",
              "      border-color: transparent;\n",
              "      border-left-color: var(--fill-color);\n",
              "      border-top-color: var(--fill-color);\n",
              "    }\n",
              "    30% {\n",
              "      border-color: transparent;\n",
              "      border-left-color: var(--fill-color);\n",
              "      border-top-color: var(--fill-color);\n",
              "      border-right-color: var(--fill-color);\n",
              "    }\n",
              "    40% {\n",
              "      border-color: transparent;\n",
              "      border-right-color: var(--fill-color);\n",
              "      border-top-color: var(--fill-color);\n",
              "    }\n",
              "    60% {\n",
              "      border-color: transparent;\n",
              "      border-right-color: var(--fill-color);\n",
              "    }\n",
              "    80% {\n",
              "      border-color: transparent;\n",
              "      border-right-color: var(--fill-color);\n",
              "      border-bottom-color: var(--fill-color);\n",
              "    }\n",
              "    90% {\n",
              "      border-color: transparent;\n",
              "      border-bottom-color: var(--fill-color);\n",
              "    }\n",
              "  }\n",
              "</style>\n",
              "\n",
              "  <script>\n",
              "    async function quickchart(key) {\n",
              "      const quickchartButtonEl =\n",
              "        document.querySelector('#' + key + ' button');\n",
              "      quickchartButtonEl.disabled = true;  // To prevent multiple clicks.\n",
              "      quickchartButtonEl.classList.add('colab-df-spinner');\n",
              "      try {\n",
              "        const charts = await google.colab.kernel.invokeFunction(\n",
              "            'suggestCharts', [key], {});\n",
              "      } catch (error) {\n",
              "        console.error('Error during call to suggestCharts:', error);\n",
              "      }\n",
              "      quickchartButtonEl.classList.remove('colab-df-spinner');\n",
              "      quickchartButtonEl.classList.add('colab-df-quickchart-complete');\n",
              "    }\n",
              "    (() => {\n",
              "      let quickchartButtonEl =\n",
              "        document.querySelector('#df-884d8163-e86c-4aa6-8064-04b20c0b7fe3 button');\n",
              "      quickchartButtonEl.style.display =\n",
              "        google.colab.kernel.accessAllowed ? 'block' : 'none';\n",
              "    })();\n",
              "  </script>\n",
              "</div>\n",
              "    </div>\n",
              "  </div>\n"
            ],
            "application/vnd.google.colaboratory.intrinsic+json": {
              "type": "dataframe",
              "variable_name": "data",
              "summary": "{\n  \"name\": \"data\",\n  \"rows\": 136,\n  \"fields\": [\n    {\n      \"column\": \"Age\",\n      \"properties\": {\n        \"dtype\": \"number\",\n        \"std\": 7,\n        \"min\": 19,\n        \"max\": 53,\n        \"num_unique_values\": 32,\n        \"samples\": [\n          22,\n          23,\n          44\n        ],\n        \"semantic_type\": \"\",\n        \"description\": \"\"\n      }\n    },\n    {\n      \"column\": \"Gender\",\n      \"properties\": {\n        \"dtype\": \"category\",\n        \"num_unique_values\": 2,\n        \"samples\": [\n          \"female\",\n          \"male\"\n        ],\n        \"semantic_type\": \"\",\n        \"description\": \"\"\n      }\n    },\n    {\n      \"column\": \"Undergrad\",\n      \"properties\": {\n        \"dtype\": \"category\",\n        \"num_unique_values\": 16,\n        \"samples\": [\n          \"Agriculture\",\n          \"Social Sciences\"\n        ],\n        \"semantic_type\": \"\",\n        \"description\": \"\"\n      }\n    },\n    {\n      \"column\": \"Nationality\",\n      \"properties\": {\n        \"dtype\": \"category\",\n        \"num_unique_values\": 4,\n        \"samples\": [\n          \"Asia\",\n          \"Europe\"\n        ],\n        \"semantic_type\": \"\",\n        \"description\": \"\"\n      }\n    },\n    {\n      \"column\": \"hoursOfWork\",\n      \"properties\": {\n        \"dtype\": \"number\",\n        \"std\": 17.53091461465019,\n        \"min\": 0.0,\n        \"max\": 175.44,\n        \"num_unique_values\": 128,\n        \"samples\": [\n          11.69,\n          8.61\n        ],\n        \"semantic_type\": \"\",\n        \"description\": \"\"\n      }\n    },\n    {\n      \"column\": \"maritalStatus\",\n      \"properties\": {\n        \"dtype\": \"category\",\n        \"num_unique_values\": 2,\n        \"samples\": [\n          \"yes\",\n          \"no\"\n        ],\n        \"semantic_type\": \"\",\n        \"description\": \"\"\n      }\n    },\n    {\n      \"column\": \"Grade\",\n      \"properties\": {\n        \"dtype\": \"number\",\n        \"std\": 7,\n        \"min\": 30,\n        \"max\": 74,\n        \"num_unique_values\": 24,\n        \"samples\": [\n          52,\n          68\n        ],\n        \"semantic_type\": \"\",\n        \"description\": \"\"\n      }\n    }\n  ]\n}"
            }
          },
          "metadata": {},
          "execution_count": 57
        }
      ]
    },
    {
      "cell_type": "code",
      "source": [
        "X = data.drop('Undergrad', axis=1)\n",
        "y = data['Undergrad']\n",
        "\n",
        "from imblearn.over_sampling import RandomOverSampler\n",
        "ros = RandomOverSampler(sampling_strategy='not majority')\n",
        "X_resampled, y_resampled = ros.fit_resample(X, y)\n",
        "\n",
        "newdata = pd.DataFrame()\n",
        "for column in X_resampled:\n",
        "  newdata[column] = X_resampled[column]\n",
        "\n",
        "newdata['Undergrad'] = y_resampled\n",
        "\n",
        "newdata.info()"
      ],
      "metadata": {
        "collapsed": true,
        "colab": {
          "base_uri": "https://localhost:8080/"
        },
        "id": "PQtP-Get6HNC",
        "outputId": "f692091e-b07f-47e0-b596-4c961ce5eddd"
      },
      "execution_count": null,
      "outputs": [
        {
          "output_type": "stream",
          "name": "stdout",
          "text": [
            "<class 'pandas.core.frame.DataFrame'>\n",
            "RangeIndex: 496 entries, 0 to 495\n",
            "Data columns (total 7 columns):\n",
            " #   Column         Non-Null Count  Dtype  \n",
            "---  ------         --------------  -----  \n",
            " 0   Age            496 non-null    int64  \n",
            " 1   Gender         496 non-null    object \n",
            " 2   Nationality    496 non-null    object \n",
            " 3   hoursOfWork    496 non-null    float64\n",
            " 4   maritalStatus  496 non-null    object \n",
            " 5   Grade          496 non-null    int64  \n",
            " 6   Undergrad      496 non-null    object \n",
            "dtypes: float64(1), int64(2), object(4)\n",
            "memory usage: 27.2+ KB\n"
          ]
        }
      ]
    },
    {
      "cell_type": "code",
      "source": [
        "X = data.drop('Gender', axis=1)\n",
        "y = data['Gender']\n",
        "\n",
        "from imblearn.over_sampling import RandomOverSampler\n",
        "ros = RandomOverSampler(sampling_strategy='not majority')\n",
        "X_resampled, y_resampled = ros.fit_resample(X, y)\n",
        "\n",
        "newdata = pd.DataFrame()\n",
        "for column in X_resampled:\n",
        "  newdata[column] = X_resampled[column]\n",
        "\n",
        "newdata['Gender'] = y_resampled\n",
        "\n",
        "newdata.info()"
      ],
      "metadata": {
        "colab": {
          "base_uri": "https://localhost:8080/"
        },
        "collapsed": true,
        "id": "ptNFv-pC6M-x",
        "outputId": "0c4b2eb5-1a76-4c4a-df0c-c1f67e0bc9ae"
      },
      "execution_count": null,
      "outputs": [
        {
          "output_type": "stream",
          "name": "stdout",
          "text": [
            "<class 'pandas.core.frame.DataFrame'>\n",
            "RangeIndex: 226 entries, 0 to 225\n",
            "Data columns (total 7 columns):\n",
            " #   Column         Non-Null Count  Dtype  \n",
            "---  ------         --------------  -----  \n",
            " 0   Age            226 non-null    int64  \n",
            " 1   Undergrad      226 non-null    object \n",
            " 2   Nationality    226 non-null    object \n",
            " 3   hoursOfWork    226 non-null    float64\n",
            " 4   maritalStatus  226 non-null    object \n",
            " 5   Grade          226 non-null    int64  \n",
            " 6   Gender         226 non-null    object \n",
            "dtypes: float64(1), int64(2), object(4)\n",
            "memory usage: 12.5+ KB\n"
          ]
        }
      ]
    },
    {
      "cell_type": "code",
      "source": [
        "X = newdata.drop('Nationality', axis=1)\n",
        "y = newdata['Nationality']\n",
        "\n",
        "from imblearn.over_sampling import RandomOverSampler\n",
        "ros = RandomOverSampler(sampling_strategy='not majority')\n",
        "X_resampled, y_resampled = ros.fit_resample(X, y)\n",
        "\n",
        "newdata = pd.DataFrame()\n",
        "for column in X_resampled:\n",
        "  newdata[column] = X_resampled[column]\n",
        "\n",
        "newdata['Nationality'] = y_resampled\n",
        "\n",
        "newdata.info()"
      ],
      "metadata": {
        "collapsed": true,
        "colab": {
          "base_uri": "https://localhost:8080/"
        },
        "id": "BRIBAZEz6gRv",
        "outputId": "c743ab29-8433-4b79-ae08-8be71539667b"
      },
      "execution_count": null,
      "outputs": [
        {
          "output_type": "stream",
          "name": "stdout",
          "text": [
            "<class 'pandas.core.frame.DataFrame'>\n",
            "RangeIndex: 392 entries, 0 to 391\n",
            "Data columns (total 7 columns):\n",
            " #   Column         Non-Null Count  Dtype  \n",
            "---  ------         --------------  -----  \n",
            " 0   Age            392 non-null    int64  \n",
            " 1   Undergrad      392 non-null    object \n",
            " 2   hoursOfWork    392 non-null    float64\n",
            " 3   maritalStatus  392 non-null    object \n",
            " 4   Grade          392 non-null    int64  \n",
            " 5   Gender         392 non-null    object \n",
            " 6   Nationality    392 non-null    object \n",
            "dtypes: float64(1), int64(2), object(4)\n",
            "memory usage: 21.6+ KB\n"
          ]
        }
      ]
    },
    {
      "cell_type": "code",
      "source": [
        "X = newdata.drop('maritalStatus', axis=1)\n",
        "y = newdata['maritalStatus']\n",
        "\n",
        "from imblearn.over_sampling import RandomOverSampler\n",
        "ros = RandomOverSampler(sampling_strategy='not majority')\n",
        "X_resampled, y_resampled = ros.fit_resample(X, y)\n",
        "\n",
        "newdata = pd.DataFrame()\n",
        "for column in X_resampled:\n",
        "  newdata[column] = X_resampled[column]\n",
        "\n",
        "newdata['maritaStatus'] = y_resampled\n",
        "\n",
        "newdata.info()"
      ],
      "metadata": {
        "colab": {
          "base_uri": "https://localhost:8080/"
        },
        "id": "WmBwOtfDNtWQ",
        "outputId": "0c74524d-365f-4b16-ca46-0cf1b726ceca"
      },
      "execution_count": null,
      "outputs": [
        {
          "output_type": "stream",
          "name": "stdout",
          "text": [
            "<class 'pandas.core.frame.DataFrame'>\n",
            "RangeIndex: 612 entries, 0 to 611\n",
            "Data columns (total 7 columns):\n",
            " #   Column        Non-Null Count  Dtype  \n",
            "---  ------        --------------  -----  \n",
            " 0   Age           612 non-null    int64  \n",
            " 1   Undergrad     612 non-null    object \n",
            " 2   hoursOfWork   612 non-null    float64\n",
            " 3   Grade         612 non-null    int64  \n",
            " 4   Gender        612 non-null    object \n",
            " 5   Nationality   612 non-null    object \n",
            " 6   maritaStatus  612 non-null    object \n",
            "dtypes: float64(1), int64(2), object(4)\n",
            "memory usage: 33.6+ KB\n"
          ]
        }
      ]
    },
    {
      "cell_type": "code",
      "source": [],
      "metadata": {
        "id": "AtPAgzpbOGHe"
      },
      "execution_count": null,
      "outputs": []
    },
    {
      "cell_type": "code",
      "source": [
        "X = newdata.drop('Grade', axis=1)\n",
        "y = newdata['Grade']\n",
        "\n",
        "from imblearn.over_sampling import RandomOverSampler\n",
        "ros = RandomOverSampler(sampling_strategy='not majority')\n",
        "X_resampled, y_resampled = ros.fit_resample(X, y)\n",
        "\n",
        "newdata = pd.DataFrame()\n",
        "for column in X_resampled:\n",
        "  newdata[column] = X_resampled[column]\n",
        "\n",
        "newdata['Grade'] = y_resampled\n",
        "\n",
        "newdata.info()"
      ],
      "metadata": {
        "colab": {
          "base_uri": "https://localhost:8080/"
        },
        "collapsed": true,
        "id": "aH5LyNQk6WF-",
        "outputId": "381a508f-a324-4f0b-85cf-74d2c4525d04"
      },
      "execution_count": null,
      "outputs": [
        {
          "output_type": "stream",
          "name": "stdout",
          "text": [
            "<class 'pandas.core.frame.DataFrame'>\n",
            "RangeIndex: 2376 entries, 0 to 2375\n",
            "Data columns (total 7 columns):\n",
            " #   Column        Non-Null Count  Dtype  \n",
            "---  ------        --------------  -----  \n",
            " 0   Age           2376 non-null   int64  \n",
            " 1   Undergrad     2376 non-null   object \n",
            " 2   hoursOfWork   2376 non-null   float64\n",
            " 3   Gender        2376 non-null   object \n",
            " 4   Nationality   2376 non-null   object \n",
            " 5   maritaStatus  2376 non-null   object \n",
            " 6   Grade         2376 non-null   int64  \n",
            "dtypes: float64(1), int64(2), object(4)\n",
            "memory usage: 130.1+ KB\n"
          ]
        }
      ]
    },
    {
      "cell_type": "code",
      "source": [
        "newdata['Grade'].value_counts()"
      ],
      "metadata": {
        "colab": {
          "base_uri": "https://localhost:8080/"
        },
        "id": "7lzZTlccPO8G",
        "outputId": "0c78ff6f-b695-4353-8553-a0d60ba612d7"
      },
      "execution_count": null,
      "outputs": [
        {
          "output_type": "execute_result",
          "data": {
            "text/plain": [
              "Grade\n",
              "70    99\n",
              "64    99\n",
              "53    99\n",
              "56    99\n",
              "74    99\n",
              "63    99\n",
              "30    99\n",
              "61    99\n",
              "68    99\n",
              "57    99\n",
              "62    99\n",
              "46    99\n",
              "69    99\n",
              "65    99\n",
              "55    99\n",
              "54    99\n",
              "52    99\n",
              "66    99\n",
              "73    99\n",
              "72    99\n",
              "60    99\n",
              "59    99\n",
              "71    99\n",
              "67    99\n",
              "Name: count, dtype: int64"
            ]
          },
          "metadata": {},
          "execution_count": 66
        }
      ]
    },
    {
      "cell_type": "code",
      "source": [
        "newdata['Grade'] = newdata['Grade'].apply(lambda x: 40 if x == 71 else x)\n",
        "newdata['Grade'] = newdata['Grade'].apply(lambda x: 45 if x == 67 else x)\n",
        "newdata['Grade'] = newdata['Grade'].apply(lambda x: 35 if x == 66 else x)\n",
        "newdata['Grade'] = newdata['Grade'].apply(lambda x: 50 if x == 72 else x)\n",
        "newdata['Grade'] = newdata['Grade'].apply(lambda x: 38 if x == 52 else x)\n",
        "newdata['Grade'] = newdata['Grade'].apply(lambda x: 42 if x == 68  else x)\n",
        "newdata['Grade'] = newdata['Grade'].apply(lambda x: 75 if x == 74 else x)\n",
        "newdata['Grade'] = newdata['Grade'].apply(lambda x: 47 if x == 61 else x)\n",
        "newdata['Grade'] = newdata['Grade'].apply(lambda x: 44 if x == 64 else x)"
      ],
      "metadata": {
        "id": "IEBcEWP1PnRB"
      },
      "execution_count": null,
      "outputs": []
    },
    {
      "cell_type": "code",
      "source": [
        "sns.distplot(newdata.Grade)"
      ],
      "metadata": {
        "colab": {
          "base_uri": "https://localhost:8080/",
          "height": 467
        },
        "id": "rJWFoDFgLtUp",
        "outputId": "ed6620bc-64a3-412c-c47e-a91b13aba180"
      },
      "execution_count": null,
      "outputs": [
        {
          "output_type": "execute_result",
          "data": {
            "text/plain": [
              "<Axes: xlabel='Grade', ylabel='Density'>"
            ]
          },
          "metadata": {},
          "execution_count": 68
        },
        {
          "output_type": "display_data",
          "data": {
            "text/plain": [
              "<Figure size 640x480 with 1 Axes>"
            ],
            "image/png": "[encoded data removed]"
          },
          "metadata": {}
        }
      ]
    },
    {
      "cell_type": "code",
      "source": [
        "newdata['Age'] = newdata['Age'].apply(lambda x: 29 if x < 24 else x)\n",
        "newdata['maritaStatus'] = newdata['maritaStatus'].apply(lambda x:0 if x == 'no' else 1)\n",
        "newdata['Gender'] = newdata['Gender'].replace({'male':1, 'female':0})\n",
        "#data['hoursOfWork'] = data['hoursOfWork'].round().astype(int)\n",
        "\n",
        "newdata['Undergrad'] = newdata['Undergrad'].replace({'Agriculture':1, 'Social Sciences':2, 'Business and Management':3, 'Communications Technologies':4, 'Education':5, 'Engineering':6, 'Transportation & Logistics':7, 'Visual and Performing Arts':8, 'Health Professions':9, 'Language & Literature':10, 'Legal Professions and Studies':11, 'Mathematics and Statistics':12, 'General Studies':13, 'Library Science':14, 'Culinary Service':15, 'Biological and Biomedical Sciences':16})\n",
        "newdata['Nationality'] = newdata['Nationality'].replace({'Africa':1, 'Asia':2, 'North America':3, 'Europe':4, 'South America':5, 'Oceania':6})"
      ],
      "metadata": {
        "id": "ycXWDJ-2TYl0"
      },
      "execution_count": null,
      "outputs": []
    },
    {
      "cell_type": "code",
      "source": [
        "newdata.head(5)"
      ],
      "metadata": {
        "colab": {
          "base_uri": "https://localhost:8080/",
          "height": 206
        },
        "id": "J01wWigECSh5",
        "outputId": "895637fe-586e-48c7-aa1b-c421f5b45de7"
      },
      "execution_count": null,
      "outputs": [
        {
          "output_type": "execute_result",
          "data": {
            "text/plain": [
              "   Age  Undergrad  hoursOfWork  Gender  Nationality  maritaStatus  Grade\n",
              "0   27          1        24.25       1            1             0     70\n",
              "1   45          2        12.51       1            1             0     44\n",
              "2   39          3         9.29       0            1             0     40\n",
              "3   37          4        16.38       0            2             1     59\n",
              "4   32          4        13.26       1            2             0     44"
            ],
            "text/html": [
              "\n",
              "  <div id=\"df-ded76b0f-6fe6-4464-8119-ab7ad003ba54\" class=\"colab-df-container\">\n",
              "    <div>\n",
              "<style scoped>\n",
              "    .dataframe tbody tr th:only-of-type {\n",
              "        vertical-align: middle;\n",
              "    }\n",
              "\n",
              "    .dataframe tbody tr th {\n",
              "        vertical-align: top;\n",
              "    }\n",
              "\n",
              "    .dataframe thead th {\n",
              "        text-align: right;\n",
              "    }\n",
              "</style>\n",
              "<table border=\"1\" class=\"dataframe\">\n",
              "  <thead>\n",
              "    <tr style=\"text-align: right;\">\n",
              "      <th></th>\n",
              "      <th>Age</th>\n",
              "      <th>Undergrad</th>\n",
              "      <th>hoursOfWork</th>\n",
              "      <th>Gender</th>\n",
              "      <th>Nationality</th>\n",
              "      <th>maritaStatus</th>\n",
              "      <th>Grade</th>\n",
              "    </tr>\n",
              "  </thead>\n",
              "  <tbody>\n",
              "    <tr>\n",
              "      <th>0</th>\n",
              "      <td>27</td>\n",
              "      <td>1</td>\n",
              "      <td>24.25</td>\n",
              "      <td>1</td>\n",
              "      <td>1</td>\n",
              "      <td>0</td>\n",
              "      <td>70</td>\n",
              "    </tr>\n",
              "    <tr>\n",
              "      <th>1</th>\n",
              "      <td>45</td>\n",
              "      <td>2</td>\n",
              "      <td>12.51</td>\n",
              "      <td>1</td>\n",
              "      <td>1</td>\n",
              "      <td>0</td>\n",
              "      <td>44</td>\n",
              "    </tr>\n",
              "    <tr>\n",
              "      <th>2</th>\n",
              "      <td>39</td>\n",
              "      <td>3</td>\n",
              "      <td>9.29</td>\n",
              "      <td>0</td>\n",
              "      <td>1</td>\n",
              "      <td>0</td>\n",
              "      <td>40</td>\n",
              "    </tr>\n",
              "    <tr>\n",
              "      <th>3</th>\n",
              "      <td>37</td>\n",
              "      <td>4</td>\n",
              "      <td>16.38</td>\n",
              "      <td>0</td>\n",
              "      <td>2</td>\n",
              "      <td>1</td>\n",
              "      <td>59</td>\n",
              "    </tr>\n",
              "    <tr>\n",
              "      <th>4</th>\n",
              "      <td>32</td>\n",
              "      <td>4</td>\n",
              "      <td>13.26</td>\n",
              "      <td>1</td>\n",
              "      <td>2</td>\n",
              "      <td>0</td>\n",
              "      <td>44</td>\n",
              "    </tr>\n",
              "  </tbody>\n",
              "</table>\n",
              "</div>\n",
              "    <div class=\"colab-df-buttons\">\n",
              "\n",
              "  <div class=\"colab-df-container\">\n",
              "    <button class=\"colab-df-convert\" onclick=\"convertToInteractive('df-ded76b0f-6fe6-4464-8119-ab7ad003ba54')\"\n",
              "            title=\"Convert this dataframe to an interactive table.\"\n",
              "            style=\"display:none;\">\n",
              "\n",
              "  <svg xmlns=\"http://www.w3.org/2000/svg\" height=\"24px\" viewBox=\"0 -960 960 960\">\n",
              "    <path d=\"M120-120v-720h720v720H120Zm60-500h600v-160H180v160Zm220 220h160v-160H400v160Zm0 220h160v-160H400v160ZM180-400h160v-160H180v160Zm440 0h160v-160H620v160ZM180-180h160v-160H180v160Zm440 0h160v-160H620v160Z\"/>\n",
              "  </svg>\n",
              "    </button>\n",
              "\n",
              "  <style>\n",
              "    .colab-df-container {\n",
              "      display:flex;\n",
              "      gap: 12px;\n",
              "    }\n",
              "\n",
              "    .colab-df-convert {\n",
              "      background-color: #E8F0FE;\n",
              "      border: none;\n",
              "      border-radius: 50%;\n",
              "      cursor: pointer;\n",
              "      display: none;\n",
              "      fill: #1967D2;\n",
              "      height: 32px;\n",
              "      padding: 0 0 0 0;\n",
              "      width: 32px;\n",
              "    }\n",
              "\n",
              "    .colab-df-convert:hover {\n",
              "      background-color: #E2EBFA;\n",
              "      box-shadow: 0px 1px 2px rgba(60, 64, 67, 0.3), 0px 1px 3px 1px rgba(60, 64, 67, 0.15);\n",
              "      fill: #174EA6;\n",
              "    }\n",
              "\n",
              "    .colab-df-buttons div {\n",
              "      margin-bottom: 4px;\n",
              "    }\n",
              "\n",
              "    [theme=dark] .colab-df-convert {\n",
              "      background-color: #3B4455;\n",
              "      fill: #D2E3FC;\n",
              "    }\n",
              "\n",
              "    [theme=dark] .colab-df-convert:hover {\n",
              "      background-color: #434B5C;\n",
              "      box-shadow: 0px 1px 3px 1px rgba(0, 0, 0, 0.15);\n",
              "      filter: drop-shadow(0px 1px 2px rgba(0, 0, 0, 0.3));\n",
              "      fill: #FFFFFF;\n",
              "    }\n",
              "  </style>\n",
              "\n",
              "    <script>\n",
              "      const buttonEl =\n",
              "        document.querySelector('#df-ded76b0f-6fe6-4464-8119-ab7ad003ba54 button.colab-df-convert');\n",
              "      buttonEl.style.display =\n",
              "        google.colab.kernel.accessAllowed ? 'block' : 'none';\n",
              "\n",
              "      async function convertToInteractive(key) {\n",
              "        const element = document.querySelector('#df-ded76b0f-6fe6-4464-8119-ab7ad003ba54');\n",
              "        const dataTable =\n",
              "          await google.colab.kernel.invokeFunction('convertToInteractive',\n",
              "                                                    [key], {});\n",
              "        if (!dataTable) return;\n",
              "\n",
              "        const docLinkHtml = 'Like what you see? Visit the ' +\n",
              "          '<a target=\"_blank\" href=https://colab.research.google.com/notebooks/data_table.ipynb>data table notebook</a>'\n",
              "          + ' to learn more about interactive tables.';\n",
              "        element.innerHTML = '';\n",
              "        dataTable['output_type'] = 'display_data';\n",
              "        await google.colab.output.renderOutput(dataTable, element);\n",
              "        const docLink = document.createElement('div');\n",
              "        docLink.innerHTML = docLinkHtml;\n",
              "        element.appendChild(docLink);\n",
              "      }\n",
              "    </script>\n",
              "  </div>\n",
              "\n",
              "\n",
              "<div id=\"df-a2a68d99-99e1-497d-b356-57a6e152dbed\">\n",
              "  <button class=\"colab-df-quickchart\" onclick=\"quickchart('df-a2a68d99-99e1-497d-b356-57a6e152dbed')\"\n",
              "            title=\"Suggest charts\"\n",
              "            style=\"display:none;\">\n",
              "\n",
              "<svg xmlns=\"http://www.w3.org/2000/svg\" height=\"24px\"viewBox=\"0 0 24 24\"\n",
              "     width=\"24px\">\n",
              "    <g>\n",
              "        <path d=\"M19 3H5c-1.1 0-2 .9-2 2v14c0 1.1.9 2 2 2h14c1.1 0 2-.9 2-2V5c0-1.1-.9-2-2-2zM9 17H7v-7h2v7zm4 0h-2V7h2v10zm4 0h-2v-4h2v4z\"/>\n",
              "    </g>\n",
              "</svg>\n",
              "  </button>\n",
              "\n",
              "<style>\n",
              "  .colab-df-quickchart {\n",
              "      --bg-color: #E8F0FE;\n",
              "      --fill-color: #1967D2;\n",
              "      --hover-bg-color: #E2EBFA;\n",
              "      --hover-fill-color: #174EA6;\n",
              "      --disabled-fill-color: #AAA;\n",
              "      --disabled-bg-color: #DDD;\n",
              "  }\n",
              "\n",
              "  [theme=dark] .colab-df-quickchart {\n",
              "      --bg-color: #3B4455;\n",
              "      --fill-color: #D2E3FC;\n",
              "      --hover-bg-color: #434B5C;\n",
              "      --hover-fill-color: #FFFFFF;\n",
              "      --disabled-bg-color: #3B4455;\n",
              "      --disabled-fill-color: #666;\n",
              "  }\n",
              "\n",
              "  .colab-df-quickchart {\n",
              "    background-color: var(--bg-color);\n",
              "    border: none;\n",
              "    border-radius: 50%;\n",
              "    cursor: pointer;\n",
              "    display: none;\n",
              "    fill: var(--fill-color);\n",
              "    height: 32px;\n",
              "    padding: 0;\n",
              "    width: 32px;\n",
              "  }\n",
              "\n",
              "  .colab-df-quickchart:hover {\n",
              "    background-color: var(--hover-bg-color);\n",
              "    box-shadow: 0 1px 2px rgba(60, 64, 67, 0.3), 0 1px 3px 1px rgba(60, 64, 67, 0.15);\n",
              "    fill: var(--button-hover-fill-color);\n",
              "  }\n",
              "\n",
              "  .colab-df-quickchart-complete:disabled,\n",
              "  .colab-df-quickchart-complete:disabled:hover {\n",
              "    background-color: var(--disabled-bg-color);\n",
              "    fill: var(--disabled-fill-color);\n",
              "    box-shadow: none;\n",
              "  }\n",
              "\n",
              "  .colab-df-spinner {\n",
              "    border: 2px solid var(--fill-color);\n",
              "    border-color: transparent;\n",
              "    border-bottom-color: var(--fill-color);\n",
              "    animation:\n",
              "      spin 1s steps(1) infinite;\n",
              "  }\n",
              "\n",
              "  @keyframes spin {\n",
              "    0% {\n",
              "      border-color: transparent;\n",
              "      border-bottom-color: var(--fill-color);\n",
              "      border-left-color: var(--fill-color);\n",
              "    }\n",
              "    20% {\n",
              "      border-color: transparent;\n",
              "      border-left-color: var(--fill-color);\n",
              "      border-top-color: var(--fill-color);\n",
              "    }\n",
              "    30% {\n",
              "      border-color: transparent;\n",
              "      border-left-color: var(--fill-color);\n",
              "      border-top-color: var(--fill-color);\n",
              "      border-right-color: var(--fill-color);\n",
              "    }\n",
              "    40% {\n",
              "      border-color: transparent;\n",
              "      border-right-color: var(--fill-color);\n",
              "      border-top-color: var(--fill-color);\n",
              "    }\n",
              "    60% {\n",
              "      border-color: transparent;\n",
              "      border-right-color: var(--fill-color);\n",
              "    }\n",
              "    80% {\n",
              "      border-color: transparent;\n",
              "      border-right-color: var(--fill-color);\n",
              "      border-bottom-color: var(--fill-color);\n",
              "    }\n",
              "    90% {\n",
              "      border-color: transparent;\n",
              "      border-bottom-color: var(--fill-color);\n",
              "    }\n",
              "  }\n",
              "</style>\n",
              "\n",
              "  <script>\n",
              "    async function quickchart(key) {\n",
              "      const quickchartButtonEl =\n",
              "        document.querySelector('#' + key + ' button');\n",
              "      quickchartButtonEl.disabled = true;  // To prevent multiple clicks.\n",
              "      quickchartButtonEl.classList.add('colab-df-spinner');\n",
              "      try {\n",
              "        const charts = await google.colab.kernel.invokeFunction(\n",
              "            'suggestCharts', [key], {});\n",
              "      } catch (error) {\n",
              "        console.error('Error during call to suggestCharts:', error);\n",
              "      }\n",
              "      quickchartButtonEl.classList.remove('colab-df-spinner');\n",
              "      quickchartButtonEl.classList.add('colab-df-quickchart-complete');\n",
              "    }\n",
              "    (() => {\n",
              "      let quickchartButtonEl =\n",
              "        document.querySelector('#df-a2a68d99-99e1-497d-b356-57a6e152dbed button');\n",
              "      quickchartButtonEl.style.display =\n",
              "        google.colab.kernel.accessAllowed ? 'block' : 'none';\n",
              "    })();\n",
              "  </script>\n",
              "</div>\n",
              "    </div>\n",
              "  </div>\n"
            ],
            "application/vnd.google.colaboratory.intrinsic+json": {
              "type": "dataframe",
              "variable_name": "newdata",
              "summary": "{\n  \"name\": \"newdata\",\n  \"rows\": 2376,\n  \"fields\": [\n    {\n      \"column\": \"Age\",\n      \"properties\": {\n        \"dtype\": \"number\",\n        \"std\": 7,\n        \"min\": 24,\n        \"max\": 53,\n        \"num_unique_values\": 27,\n        \"samples\": [\n          29,\n          31,\n          28\n        ],\n        \"semantic_type\": \"\",\n        \"description\": \"\"\n      }\n    },\n    {\n      \"column\": \"Undergrad\",\n      \"properties\": {\n        \"dtype\": \"number\",\n        \"std\": 4,\n        \"min\": 1,\n        \"max\": 16,\n        \"num_unique_values\": 16,\n        \"samples\": [\n          1,\n          2,\n          6\n        ],\n        \"semantic_type\": \"\",\n        \"description\": \"\"\n      }\n    },\n    {\n      \"column\": \"hoursOfWork\",\n      \"properties\": {\n        \"dtype\": \"number\",\n        \"std\": 13.106929408500502,\n        \"min\": 0.0,\n        \"max\": 175.44,\n        \"num_unique_values\": 128,\n        \"samples\": [\n          11.69,\n          8.61,\n          17.5\n        ],\n        \"semantic_type\": \"\",\n        \"description\": \"\"\n      }\n    },\n    {\n      \"column\": \"Gender\",\n      \"properties\": {\n        \"dtype\": \"number\",\n        \"std\": 0,\n        \"min\": 0,\n        \"max\": 1,\n        \"num_unique_values\": 2,\n        \"samples\": [\n          0,\n          1\n        ],\n        \"semantic_type\": \"\",\n        \"description\": \"\"\n      }\n    },\n    {\n      \"column\": \"Nationality\",\n      \"properties\": {\n        \"dtype\": \"number\",\n        \"std\": 1,\n        \"min\": 1,\n        \"max\": 4,\n        \"num_unique_values\": 4,\n        \"samples\": [\n          2,\n          4\n        ],\n        \"semantic_type\": \"\",\n        \"description\": \"\"\n      }\n    },\n    {\n      \"column\": \"maritaStatus\",\n      \"properties\": {\n        \"dtype\": \"number\",\n        \"std\": 0,\n        \"min\": 0,\n        \"max\": 1,\n        \"num_unique_values\": 2,\n        \"samples\": [\n          1,\n          0\n        ],\n        \"semantic_type\": \"\",\n        \"description\": \"\"\n      }\n    },\n    {\n      \"column\": \"Grade\",\n      \"properties\": {\n        \"dtype\": \"number\",\n        \"std\": 12,\n        \"min\": 30,\n        \"max\": 75,\n        \"num_unique_values\": 24,\n        \"samples\": [\n          38,\n          42\n        ],\n        \"semantic_type\": \"\",\n        \"description\": \"\"\n      }\n    }\n  ]\n}"
            }
          },
          "metadata": {},
          "execution_count": 72
        }
      ]
    },
    {
      "source": [
        "# @title Undergrad vs hoursOfWork\n",
        "\n",
        "from matplotlib import pyplot as plt\n",
        "newdata.plot(kind='scatter', x='Undergrad', y='hoursOfWork', s=32, alpha=.8)\n",
        "plt.gca().spines[['top', 'right',]].set_visible(False)"
      ],
      "cell_type": "code",
      "execution_count": null,
      "outputs": [
        {
          "output_type": "display_data",
          "data": {
            "text/plain": [
              "<Figure size 640x480 with 1 Axes>"
            ],
            "image/png": "[encoded data removed]"
          },
          "metadata": {}
        }
      ],
      "metadata": {
        "colab": {
          "base_uri": "https://localhost:8080/",
          "height": 449
        },
        "id": "tOPc0jB9VIKH",
        "outputId": "f30eb166-7241-4356-d31d-bc946b7082d0"
      }
    },
    {
      "cell_type": "code",
      "source": [
        "\n",
        "from matplotlib import pyplot as plt\n",
        "newdata.plot(kind='scatter', x='Undergrad', y='Grade', s=32, alpha=.8)\n",
        "plt.gca().spines[['top', 'right',]].set_visible(False)"
      ],
      "metadata": {
        "colab": {
          "base_uri": "https://localhost:8080/",
          "height": 449
        },
        "id": "x1496FFNVWfz",
        "outputId": "a3b65496-4730-4ac1-998d-5053f1170b9a"
      },
      "execution_count": null,
      "outputs": [
        {
          "output_type": "display_data",
          "data": {
            "text/plain": [
              "<Figure size 640x480 with 1 Axes>"
            ],
            "image/png": "[encoded data removed]"
          },
          "metadata": {}
        }
      ]
    },
    {
      "cell_type": "code",
      "source": [
        "\n",
        "from matplotlib import pyplot as plt\n",
        "newdata.plot(kind='scatter', x='Nationality', y='Grade', s=32, alpha=.8)\n",
        "plt.gca().spines[['top', 'right',]].set_visible(False)"
      ],
      "metadata": {
        "colab": {
          "base_uri": "https://localhost:8080/",
          "height": 449
        },
        "id": "h6Tnr1MpVZp1",
        "outputId": "36597b9b-4a8e-4ff5-900d-a65a0e36a165"
      },
      "execution_count": null,
      "outputs": [
        {
          "output_type": "display_data",
          "data": {
            "text/plain": [
              "<Figure size 640x480 with 1 Axes>"
            ],
            "image/png": "[encoded data removed]"
          },
          "metadata": {}
        }
      ]
    },
    {
      "cell_type": "code",
      "source": [
        "\n",
        "from matplotlib import pyplot as plt\n",
        "newdata.plot(kind='scatter', x='maritaStatus', y='Grade', s=32, alpha=.8)\n",
        "plt.gca().spines[['top', 'right',]].set_visible(False)"
      ],
      "metadata": {
        "colab": {
          "base_uri": "https://localhost:8080/",
          "height": 449
        },
        "id": "eF5xYCWzVgpz",
        "outputId": "d3a8f316-0a09-4299-ac95-2fc4f5e05a96"
      },
      "execution_count": null,
      "outputs": [
        {
          "output_type": "display_data",
          "data": {
            "text/plain": [
              "<Figure size 640x480 with 1 Axes>"
            ],
            "image/png": "[encoded data removed]"
          },
          "metadata": {}
        }
      ]
    },
    {
      "cell_type": "code",
      "source": [
        "\n",
        "from matplotlib import pyplot as plt\n",
        "newdata.plot(kind='scatter', x='hoursOfWork', y='Grade', s=32, alpha=.8)\n",
        "plt.gca().spines[['top', 'right',]].set_visible(False)"
      ],
      "metadata": {
        "colab": {
          "base_uri": "https://localhost:8080/",
          "height": 449
        },
        "id": "tx51UjNAVnin",
        "outputId": "c882338d-e50e-4f29-8fe2-16efd8ebc70e"
      },
      "execution_count": null,
      "outputs": [
        {
          "output_type": "display_data",
          "data": {
            "text/plain": [
              "<Figure size 640x480 with 1 Axes>"
            ],
            "image/png": "[encoded data removed]"
          },
          "metadata": {}
        }
      ]
    },
    {
      "cell_type": "markdown",
      "source": [
        "# Collective Pediction"
      ],
      "metadata": {
        "id": "I9kMNMXVWmbN"
      }
    },
    {
      "cell_type": "code",
      "source": [
        "# Split the data into features and target variable\n",
        "X = newdata.drop('Grade', axis=1)\n",
        "y = newdata['Grade']\n",
        "\n",
        "# Split the data into training and testing sets\n",
        "X_train, X_test, y_train, y_test = train_test_split(X, y, test_size=0.3, random_state=42)\n",
        "\n",
        "# Random Forest\n",
        "rf_model = RandomForestRegressor()\n",
        "rf_model.fit(X_train, y_train)\n",
        "y_pred_rf = rf_model.predict(X_test)\n",
        "mae_rf = mean_absolute_error(y_test, y_pred_rf)\n",
        "mse_rf = mean_squared_error(y_test, y_pred_rf)\n",
        "r2_rf = r2_score(y_test, y_pred_rf)\n",
        "\n",
        "print('\\n')\n",
        "print(\"Random Forest - Mean Absolute Error:\", mae_rf)\n",
        "print(\"Random Forest - Mean Squared Error:\", mse_rf)\n",
        "print(\"Random Forest - R-squared:\", r2_rf)\n",
        "\n",
        "# Decision Tree\n",
        "dt_model = DecisionTreeRegressor()\n",
        "dt_model.fit(X_train, y_train)\n",
        "y_pred_dt = dt_model.predict(X_test)\n",
        "mae_dt = mean_absolute_error(y_test, y_pred_dt)\n",
        "mse_dt = mean_squared_error(y_test, y_pred_dt)\n",
        "r2_dt = r2_score(y_test, y_pred_dt)\n",
        "\n",
        "print('\\n')\n",
        "print(\"Decision Tree - Mean Absolute Error:\", mae_dt)\n",
        "print(\"Decision Tree - Mean Squared Error:\", mse_dt)\n",
        "print(\"Decision Tree - R-squared:\", r2_dt)\n",
        "\n",
        "# Linear Regression\n",
        "lr_model = LinearRegression()\n",
        "lr_model.fit(X_train, y_train)\n",
        "y_pred_lr = lr_model.predict(X_test)\n",
        "mae_lr = mean_absolute_error(y_test, y_pred_lr)\n",
        "mse_lr = mean_squared_error(y_test, y_pred_lr)\n",
        "r2_lr = r2_score(y_test, y_pred_lr)\n",
        "\n",
        "print('\\n')\n",
        "print(\"Linear Regression - Mean Absolute Error:\", mae_lr)\n",
        "print(\"Linear Regression - Mean Squared Error:\", mse_lr)\n",
        "print(\"Linear Regression - R-squared:\", r2_lr)\n",
        "\n",
        "# SVR\n",
        "svr_model = SVR()\n",
        "svr_model.fit(X_train, y_train)\n",
        "y_pred_svr = svr_model.predict(X_test)\n",
        "mae_svr = mean_absolute_error(y_test, y_pred_svr)\n",
        "mse_svr = mean_squared_error(y_test, y_pred_svr)\n",
        "r2_svr = r2_score(y_test, y_pred_svr)\n",
        "\n",
        "print('\\n')\n",
        "print(\"SVR - Mean Absolute Error:\", mae_svr)\n",
        "print(\"SVR - Mean Squared Error:\", mse_svr)\n",
        "print(\"SVR - R-squared:\", r2_svr)\n",
        "\n",
        "# Ridge Regression\n",
        "ridge_model = Ridge()\n",
        "ridge_model.fit(X_train, y_train)\n",
        "y_pred_ridge = ridge_model.predict(X_test)\n",
        "mae_rf = mean_absolute_error(y_test, y_pred_ridge)\n",
        "mse_ridge = mean_squared_error(y_test, y_pred_ridge)\n",
        "r2_ridge = r2_score(y_test, y_pred_ridge)\n",
        "print('\\n')\n",
        "print(\"Ridge Regression - Mean Absolute Error:\", mae_rf)\n",
        "print(\"Ridge Regression - Mean Squared Error:\", mse_ridge)\n",
        "print(\"Ridge Regression - R-squared:\", r2_ridge)\n",
        "\n",
        "# Gradient Boosting\n",
        "gb_model = GradientBoostingRegressor()\n",
        "gb_model.fit(X_train, y_train)\n",
        "y_pred_gb = gb_model.predict(X_test)\n",
        "mae_rf = mean_absolute_error(y_test, y_pred_gb)\n",
        "mse_gb = mean_squared_error(y_test, y_pred_gb)\n",
        "r2_gb = r2_score(y_test, y_pred_gb)\n",
        "print('\\n')\n",
        "print(\"Gradient Boosting - Mean Absolute Error:\", mae_rf)\n",
        "print(\"Gradient Boosting - Mean Squared Error:\", mse_gb)\n",
        "print(\"Gradient Boosting - R-squared:\", r2_gb)"
      ],
      "metadata": {
        "colab": {
          "base_uri": "https://localhost:8080/"
        },
        "id": "Rt9u0nFH9SDT",
        "outputId": "10a783f9-43aa-4de1-d03d-005f8ce562d6"
      },
      "execution_count": null,
      "outputs": [
        {
          "output_type": "stream",
          "name": "stdout",
          "text": [
            "\n",
            "\n",
            "Random Forest - Mean Absolute Error: 0.5620196353436185\n",
            "Random Forest - Mean Squared Error: 8.188950070126227\n",
            "Random Forest - R-squared: 0.9430856059917516\n",
            "\n",
            "\n",
            "Decision Tree - Mean Absolute Error: 0.46563814866760167\n",
            "Decision Tree - Mean Squared Error: 10.213183730715288\n",
            "Decision Tree - R-squared: 0.929016887641177\n",
            "\n",
            "\n",
            "Linear Regression - Mean Absolute Error: 9.74235970231711\n",
            "Linear Regression - Mean Squared Error: 132.4844572989226\n",
            "Linear Regression - R-squared: 0.07921375290988819\n",
            "\n",
            "\n",
            "SVR - Mean Absolute Error: 9.322173110255683\n",
            "SVR - Mean Squared Error: 134.23214467559364\n",
            "SVR - R-squared: 0.06706707145410973\n",
            "\n",
            "\n",
            "Ridge Regression - Mean Absolute Error: 9.742696213665155\n",
            "Ridge Regression - Mean Squared Error: 132.48184348157298\n",
            "Ridge Regression - R-squared: 0.0792319193206279\n",
            "\n",
            "\n",
            "Gradient Boosting - Mean Absolute Error: 2.8932424774044807\n",
            "Gradient Boosting - Mean Squared Error: 22.974990246710608\n",
            "Gradient Boosting - R-squared: 0.8403204762467437\n"
          ]
        }
      ]
    },
    {
      "cell_type": "code",
      "source": [
        "import pickle\n",
        "\n",
        "pickle.dump(rf_model, open('model.pkl', 'wb'))\n",
        "\n",
        "print(rf_model.predict([[25, 15, 1, 3, 1, 0]]))"
      ],
      "metadata": {
        "colab": {
          "base_uri": "https://localhost:8080/"
        },
        "id": "T1M1p43VcHNM",
        "outputId": "a103c40f-c67c-4964-8375-880ef72b4533"
      },
      "execution_count": null,
      "outputs": [
        {
          "output_type": "stream",
          "name": "stdout",
          "text": [
            "[63.29]\n"
          ]
        }
      ]
    },
    {
      "cell_type": "code",
      "source": [
        "from google.colab import files\n",
        "\n",
        "files.download('model.pkl')"
      ],
      "metadata": {
        "colab": {
          "base_uri": "https://localhost:8080/",
          "height": 17
        },
        "id": "qQU3AGgoe8QG",
        "outputId": "923d1bf2-ac7f-4523-8e54-39d963fcd382"
      },
      "execution_count": null,
      "outputs": [
        {
          "output_type": "display_data",
          "data": {
            "text/plain": [
              "<IPython.core.display.Javascript object>"
            ],
            "application/javascript": [
              "\n",
              "    async function download(id, filename, size) {\n",
              "      if (!google.colab.kernel.accessAllowed) {\n",
              "        return;\n",
              "      }\n",
              "      const div = document.createElement('div');\n",
              "      const label = document.createElement('label');\n",
              "      label.textContent = `Downloading \"${filename}\": `;\n",
              "      div.appendChild(label);\n",
              "      const progress = document.createElement('progress');\n",
              "      progress.max = size;\n",
              "      div.appendChild(progress);\n",
              "      document.body.appendChild(div);\n",
              "\n",
              "      const buffers = [];\n",
              "      let downloaded = 0;\n",
              "\n",
              "      const channel = await google.colab.kernel.comms.open(id);\n",
              "      // Send a message to notify the kernel that we're ready.\n",
              "      channel.send({})\n",
              "\n",
              "      for await (const message of channel.messages) {\n",
              "        // Send a message to notify the kernel that we're ready.\n",
              "        channel.send({})\n",
              "        if (message.buffers) {\n",
              "          for (const buffer of message.buffers) {\n",
              "            buffers.push(buffer);\n",
              "            downloaded += buffer.byteLength;\n",
              "            progress.value = downloaded;\n",
              "          }\n",
              "        }\n",
              "      }\n",
              "      const blob = new Blob(buffers, {type: 'application/binary'});\n",
              "      const a = document.createElement('a');\n",
              "      a.href = window.URL.createObjectURL(blob);\n",
              "      a.download = filename;\n",
              "      div.appendChild(a);\n",
              "      a.click();\n",
              "      div.remove();\n",
              "    }\n",
              "  "
            ]
          },
          "metadata": {}
        },
        {
          "output_type": "display_data",
          "data": {
            "text/plain": [
              "<IPython.core.display.Javascript object>"
            ],
            "application/javascript": [
              "download(\"download_7f6354bf-8b97-491c-8ce4-c2415940046c\", \"model.pkl\", 1346880)"
            ]
          },
          "metadata": {}
        }
      ]
    },
    {
      "cell_type": "code",
      "source": [
        "import sklearn\n",
        "print(sklearn.__version__)"
      ],
      "metadata": {
        "colab": {
          "base_uri": "https://localhost:8080/"
        },
        "id": "ACQPQZno3Cva",
        "outputId": "6089cbbc-14db-4b1d-bf7a-64872be76a35"
      },
      "execution_count": null,
      "outputs": [
        {
          "output_type": "stream",
          "name": "stdout",
          "text": [
            "1.2.2\n"
          ]
        }
      ]
    },
    {
      "cell_type": "markdown",
      "source": [
        "# Nationality"
      ],
      "metadata": {
        "id": "O1hxso_KWvJc"
      }
    },
    {
      "cell_type": "code",
      "source": [
        "# Split the data into features and target variable\n",
        "X = newdata[['Nationality']]\n",
        "y = newdata['Grade']\n",
        "\n",
        "# Split the data into training and testing sets\n",
        "X_train, X_test, y_train, y_test = train_test_split(X, y, test_size=0.3, random_state=42)\n",
        "\n",
        "# Random Forest\n",
        "rf_model = RandomForestRegressor()\n",
        "rf_model.fit(X_train, y_train)\n",
        "y_pred_rf = rf_model.predict(X_test)\n",
        "mae_rf = mean_absolute_error(y_test, y_pred_rf)\n",
        "mse_rf = mean_squared_error(y_test, y_pred_rf)\n",
        "r2_rf = r2_score(y_test, y_pred_rf)\n",
        "\n",
        "print('\\n')\n",
        "print(\"Random Forest - Mean Absolute Error:\", mae_rf)\n",
        "print(\"Random Forest - Mean Squared Error:\", mse_rf)\n",
        "print(\"Random Forest - R-squared:\", r2_rf)\n",
        "\n",
        "# Decision Tree\n",
        "dt_model = DecisionTreeRegressor()\n",
        "dt_model.fit(X_train, y_train)\n",
        "y_pred_dt = dt_model.predict(X_test)\n",
        "mae_dt = mean_absolute_error(y_test, y_pred_dt)\n",
        "mse_dt = mean_squared_error(y_test, y_pred_dt)\n",
        "r2_dt = r2_score(y_test, y_pred_dt)\n",
        "\n",
        "print('\\n')\n",
        "print(\"Decision Tree - Mean Absolute Error:\", mae_dt)\n",
        "print(\"Decision Tree - Mean Squared Error:\", mse_dt)\n",
        "print(\"Decision Tree - R-squared:\", r2_dt)\n",
        "\n",
        "# Linear Regression\n",
        "lr_model = LinearRegression()\n",
        "lr_model.fit(X_train, y_train)\n",
        "y_pred_lr = lr_model.predict(X_test)\n",
        "mae_lr = mean_absolute_error(y_test, y_pred_lr)\n",
        "mse_lr = mean_squared_error(y_test, y_pred_lr)\n",
        "r2_lr = r2_score(y_test, y_pred_lr)\n",
        "\n",
        "print('\\n')\n",
        "print(\"Linear Regression - Mean Absolute Error:\", mae_lr)\n",
        "print(\"Linear Regression - Mean Squared Error:\", mse_lr)\n",
        "print(\"Linear Regression - R-squared:\", r2_lr)\n",
        "\n",
        "# SVR\n",
        "svr_model = SVR()\n",
        "svr_model.fit(X_train, y_train)\n",
        "y_pred_svr = svr_model.predict(X_test)\n",
        "mae_svr = mean_absolute_error(y_test, y_pred_svr)\n",
        "mse_svr = mean_squared_error(y_test, y_pred_svr)\n",
        "r2_svr = r2_score(y_test, y_pred_svr)\n",
        "\n",
        "print('\\n')\n",
        "print(\"SVR - Mean Absolute Error:\", mae_svr)\n",
        "print(\"SVR - Mean Squared Error:\", mse_svr)\n",
        "print(\"SVR - R-squared:\", r2_svr)\n",
        "\n",
        "# Ridge Regression\n",
        "ridge_model = Ridge()\n",
        "ridge_model.fit(X_train, y_train)\n",
        "y_pred_ridge = ridge_model.predict(X_test)\n",
        "mae_rf = mean_absolute_error(y_test, y_pred_ridge)\n",
        "mse_ridge = mean_squared_error(y_test, y_pred_ridge)\n",
        "r2_ridge = r2_score(y_test, y_pred_ridge)\n",
        "print('\\n')\n",
        "print(\"Ridge Regression - Mean Absolute Error:\", mae_rf)\n",
        "print(\"Ridge Regression - Mean Squared Error:\", mse_ridge)\n",
        "print(\"Ridge Regression - R-squared:\", r2_ridge)\n",
        "\n",
        "# Gradient Boosting\n",
        "gb_model = GradientBoostingRegressor()\n",
        "gb_model.fit(X_train, y_train)\n",
        "y_pred_gb = gb_model.predict(X_test)\n",
        "mae_rf = mean_absolute_error(y_test, y_pred_gb)\n",
        "mse_gb = mean_squared_error(y_test, y_pred_gb)\n",
        "r2_gb = r2_score(y_test, y_pred_gb)\n",
        "print('\\n')\n",
        "print(\"Gradient Boosting - Mean Absolute Error:\", mae_rf)\n",
        "print(\"Gradient Boosting - Mean Squared Error:\", mse_gb)\n",
        "print(\"Gradient Boosting - R-squared:\", r2_gb)"
      ],
      "metadata": {
        "colab": {
          "base_uri": "https://localhost:8080/"
        },
        "id": "gYubRPCoW_yT",
        "outputId": "2002a52c-c3d5-4b17-a0cc-27e5f4680943"
      },
      "execution_count": null,
      "outputs": [
        {
          "output_type": "stream",
          "name": "stdout",
          "text": [
            "\n",
            "\n",
            "Random Forest - Mean Absolute Error: 10.202814706917438\n",
            "Random Forest - Mean Squared Error: 143.49297165897826\n",
            "Random Forest - R-squared: 0.002702977002322804\n",
            "\n",
            "\n",
            "Decision Tree - Mean Absolute Error: 10.205381032496538\n",
            "Decision Tree - Mean Squared Error: 143.4860054389143\n",
            "Decision Tree - R-squared: 0.002751393244951439\n",
            "\n",
            "\n",
            "Linear Regression - Mean Absolute Error: 10.082780757946757\n",
            "Linear Regression - Mean Squared Error: 144.0880282307343\n",
            "Linear Regression - R-squared: -0.0014327527178605859\n",
            "\n",
            "\n",
            "SVR - Mean Absolute Error: 10.020079607801764\n",
            "SVR - Mean Squared Error: 147.4604943158253\n",
            "SVR - R-squared: -0.024871882508936016\n",
            "\n",
            "\n",
            "Ridge Regression - Mean Absolute Error: 10.08277815092462\n",
            "Ridge Regression - Mean Squared Error: 144.08812162409737\n",
            "Ridge Regression - R-squared: -0.001433401815317259\n",
            "\n",
            "\n",
            "Gradient Boosting - Mean Absolute Error: 10.205377559382317\n",
            "Gradient Boosting - Mean Squared Error: 143.4859972028352\n",
            "Gradient Boosting - R-squared: 0.0027514504868991763\n"
          ]
        }
      ]
    },
    {
      "cell_type": "markdown",
      "source": [
        "# Undergrad course"
      ],
      "metadata": {
        "id": "8BNe_rbpYZ4k"
      }
    },
    {
      "cell_type": "code",
      "source": [
        "# Split the data into features and target variable\n",
        "X = newdata[['Undergrad']]\n",
        "y = newdata['Grade']\n",
        "\n",
        "# Split the data into training and testing sets\n",
        "X_train, X_test, y_train, y_test = train_test_split(X, y, test_size=0.3, random_state=42)\n",
        "\n",
        "# Random Forest\n",
        "rf_model = RandomForestRegressor()\n",
        "rf_model.fit(X_train, y_train)\n",
        "y_pred_rf = rf_model.predict(X_test)\n",
        "mae_rf = mean_absolute_error(y_test, y_pred_rf)\n",
        "mse_rf = mean_squared_error(y_test, y_pred_rf)\n",
        "r2_rf = r2_score(y_test, y_pred_rf)\n",
        "\n",
        "print('\\n')\n",
        "print(\"Random Forest - Mean Absolute Error:\", mae_rf)\n",
        "print(\"Random Forest - Mean Squared Error:\", mse_rf)\n",
        "print(\"Random Forest - R-squared:\", r2_rf)\n",
        "\n",
        "# Decision Tree\n",
        "dt_model = DecisionTreeRegressor()\n",
        "dt_model.fit(X_train, y_train)\n",
        "y_pred_dt = dt_model.predict(X_test)\n",
        "mae_dt = mean_absolute_error(y_test, y_pred_dt)\n",
        "mse_dt = mean_squared_error(y_test, y_pred_dt)\n",
        "r2_dt = r2_score(y_test, y_pred_dt)\n",
        "\n",
        "print('\\n')\n",
        "print(\"Decision Tree - Mean Absolute Error:\", mae_dt)\n",
        "print(\"Decision Tree - Mean Squared Error:\", mse_dt)\n",
        "print(\"Decision Tree - R-squared:\", r2_dt)\n",
        "\n",
        "# Linear Regression\n",
        "lr_model = LinearRegression()\n",
        "lr_model.fit(X_train, y_train)\n",
        "y_pred_lr = lr_model.predict(X_test)\n",
        "mae_lr = mean_absolute_error(y_test, y_pred_lr)\n",
        "mse_lr = mean_squared_error(y_test, y_pred_lr)\n",
        "r2_lr = r2_score(y_test, y_pred_lr)\n",
        "\n",
        "print('\\n')\n",
        "print(\"Linear Regression - Mean Absolute Error:\", mae_lr)\n",
        "print(\"Linear Regression - Mean Squared Error:\", mse_lr)\n",
        "print(\"Linear Regression - R-squared:\", r2_lr)\n",
        "\n",
        "# SVR\n",
        "svr_model = SVR()\n",
        "svr_model.fit(X_train, y_train)\n",
        "y_pred_svr = svr_model.predict(X_test)\n",
        "mae_svr = mean_absolute_error(y_test, y_pred_svr)\n",
        "mse_svr = mean_squared_error(y_test, y_pred_svr)\n",
        "r2_svr = r2_score(y_test, y_pred_svr)\n",
        "\n",
        "print('\\n')\n",
        "print(\"SVR - Mean Absolute Error:\", mae_svr)\n",
        "print(\"SVR - Mean Squared Error:\", mse_svr)\n",
        "print(\"SVR - R-squared:\", r2_svr)\n",
        "\n",
        "# Ridge Regression\n",
        "ridge_model = Ridge()\n",
        "ridge_model.fit(X_train, y_train)\n",
        "y_pred_ridge = ridge_model.predict(X_test)\n",
        "mae_rf = mean_absolute_error(y_test, y_pred_ridge)\n",
        "mse_ridge = mean_squared_error(y_test, y_pred_ridge)\n",
        "r2_ridge = r2_score(y_test, y_pred_ridge)\n",
        "print('\\n')\n",
        "print(\"Ridge Regression - Mean Absolute Error:\", mae_rf)\n",
        "print(\"Ridge Regression - Mean Squared Error:\", mse_ridge)\n",
        "print(\"Ridge Regression - R-squared:\", r2_ridge)\n",
        "\n",
        "# Gradient Boosting\n",
        "gb_model = GradientBoostingRegressor()\n",
        "gb_model.fit(X_train, y_train)\n",
        "y_pred_gb = gb_model.predict(X_test)\n",
        "mae_rf = mean_absolute_error(y_test, y_pred_gb)\n",
        "mse_gb = mean_squared_error(y_test, y_pred_gb)\n",
        "r2_gb = r2_score(y_test, y_pred_gb)\n",
        "print('\\n')\n",
        "print(\"Gradient Boosting - Mean Absolute Error:\", mae_rf)\n",
        "print(\"Gradient Boosting - Mean Squared Error:\", mse_gb)\n",
        "print(\"Gradient Boosting - R-squared:\", r2_gb)"
      ],
      "metadata": {
        "colab": {
          "base_uri": "https://localhost:8080/"
        },
        "id": "L2NYPBnZYh7u",
        "outputId": "63719ede-13d3-4044-97e1-003022e3b97f"
      },
      "execution_count": null,
      "outputs": [
        {
          "output_type": "stream",
          "name": "stdout",
          "text": [
            "\n",
            "\n",
            "Random Forest - Mean Absolute Error: 9.124137055108173\n",
            "Random Forest - Mean Squared Error: 117.37569348963542\n",
            "Random Forest - R-squared: 0.18422185883989273\n",
            "\n",
            "\n",
            "Decision Tree - Mean Absolute Error: 9.121866387464326\n",
            "Decision Tree - Mean Squared Error: 117.29073092727769\n",
            "Decision Tree - R-squared: 0.1848123610054413\n",
            "\n",
            "\n",
            "Linear Regression - Mean Absolute Error: 10.083065722339782\n",
            "Linear Regression - Mean Squared Error: 144.38246945433826\n",
            "Linear Regression - R-squared: -0.0034791620461580575\n",
            "\n",
            "\n",
            "SVR - Mean Absolute Error: 9.848167804301003\n",
            "SVR - Mean Squared Error: 143.64853516272666\n",
            "SVR - R-squared: 0.0016217880257360928\n",
            "\n",
            "\n",
            "Ridge Regression - Mean Absolute Error: 10.083065745256974\n",
            "Ridge Regression - Mean Squared Error: 144.38246938892115\n",
            "Ridge Regression - R-squared: -0.0034791615914995244\n",
            "\n",
            "\n",
            "Gradient Boosting - Mean Absolute Error: 9.131518038089768\n",
            "Gradient Boosting - Mean Squared Error: 117.26110739013974\n",
            "Gradient Boosting - R-squared: 0.18501824889706953\n"
          ]
        }
      ]
    },
    {
      "cell_type": "markdown",
      "source": [
        "# Age"
      ],
      "metadata": {
        "id": "AiwhaWKOZVRc"
      }
    },
    {
      "cell_type": "code",
      "source": [
        "# Split the data into features and target variable\n",
        "X = newdata[['Age']]\n",
        "y = newdata['Grade']\n",
        "\n",
        "# Split the data into training and testing sets\n",
        "X_train, X_test, y_train, y_test = train_test_split(X, y, test_size=0.3, random_state=42)\n",
        "\n",
        "# Random Forest\n",
        "rf_model = RandomForestRegressor()\n",
        "rf_model.fit(X_train, y_train)\n",
        "y_pred_rf = rf_model.predict(X_test)\n",
        "mae_rf = mean_absolute_error(y_test, y_pred_rf)\n",
        "mse_rf = mean_squared_error(y_test, y_pred_rf)\n",
        "r2_rf = r2_score(y_test, y_pred_rf)\n",
        "\n",
        "print('\\n')\n",
        "print(\"Random Forest - Mean Absolute Error:\", mae_rf)\n",
        "print(\"Random Forest - Mean Squared Error:\", mse_rf)\n",
        "print(\"Random Forest - R-squared:\", r2_rf)\n",
        "\n",
        "# Decision Tree\n",
        "dt_model = DecisionTreeRegressor()\n",
        "dt_model.fit(X_train, y_train)\n",
        "y_pred_dt = dt_model.predict(X_test)\n",
        "mae_dt = mean_absolute_error(y_test, y_pred_dt)\n",
        "mse_dt = mean_squared_error(y_test, y_pred_dt)\n",
        "r2_dt = r2_score(y_test, y_pred_dt)\n",
        "\n",
        "print('\\n')\n",
        "print(\"Decision Tree - Mean Absolute Error:\", mae_dt)\n",
        "print(\"Decision Tree - Mean Squared Error:\", mse_dt)\n",
        "print(\"Decision Tree - R-squared:\", r2_dt)\n",
        "\n",
        "# Linear Regression\n",
        "lr_model = LinearRegression()\n",
        "lr_model.fit(X_train, y_train)\n",
        "y_pred_lr = lr_model.predict(X_test)\n",
        "mae_lr = mean_absolute_error(y_test, y_pred_lr)\n",
        "mse_lr = mean_squared_error(y_test, y_pred_lr)\n",
        "r2_lr = r2_score(y_test, y_pred_lr)\n",
        "\n",
        "print('\\n')\n",
        "print(\"Linear Regression - Mean Absolute Error:\", mae_lr)\n",
        "print(\"Linear Regression - Mean Squared Error:\", mse_lr)\n",
        "print(\"Linear Regression - R-squared:\", r2_lr)\n",
        "\n",
        "# SVR\n",
        "svr_model = SVR()\n",
        "svr_model.fit(X_train, y_train)\n",
        "y_pred_svr = svr_model.predict(X_test)\n",
        "mae_svr = mean_absolute_error(y_test, y_pred_svr)\n",
        "mse_svr = mean_squared_error(y_test, y_pred_svr)\n",
        "r2_svr = r2_score(y_test, y_pred_svr)\n",
        "\n",
        "print('\\n')\n",
        "print(\"SVR - Mean Absolute Error:\", mae_svr)\n",
        "print(\"SVR - Mean Squared Error:\", mse_svr)\n",
        "print(\"SVR - R-squared:\", r2_svr)\n",
        "\n",
        "# Ridge Regression\n",
        "ridge_model = Ridge()\n",
        "ridge_model.fit(X_train, y_train)\n",
        "y_pred_ridge = ridge_model.predict(X_test)\n",
        "mae_rf = mean_absolute_error(y_test, y_pred_ridge)\n",
        "mse_ridge = mean_squared_error(y_test, y_pred_ridge)\n",
        "r2_ridge = r2_score(y_test, y_pred_ridge)\n",
        "print('\\n')\n",
        "print(\"Ridge Regression - Mean Absolute Error:\", mae_rf)\n",
        "print(\"Ridge Regression - Mean Squared Error:\", mse_ridge)\n",
        "print(\"Ridge Regression - R-squared:\", r2_ridge)\n",
        "\n",
        "# Gradient Boosting\n",
        "gb_model = GradientBoostingRegressor()\n",
        "gb_model.fit(X_train, y_train)\n",
        "y_pred_gb = gb_model.predict(X_test)\n",
        "mae_rf = mean_absolute_error(y_test, y_pred_gb)\n",
        "mse_gb = mean_squared_error(y_test, y_pred_gb)\n",
        "r2_gb = r2_score(y_test, y_pred_gb)\n",
        "print('\\n')\n",
        "print(\"Gradient Boosting - Mean Absolute Error:\", mae_rf)\n",
        "print(\"Gradient Boosting - Mean Squared Error:\", mse_gb)\n",
        "print(\"Gradient Boosting - R-squared:\", r2_gb)"
      ],
      "metadata": {
        "colab": {
          "base_uri": "https://localhost:8080/"
        },
        "id": "kA5jXLr5ZeJZ",
        "outputId": "ab7b18f9-7948-48ac-a5bb-1460fe51aadc"
      },
      "execution_count": null,
      "outputs": [
        {
          "output_type": "stream",
          "name": "stdout",
          "text": [
            "\n",
            "\n",
            "Random Forest - Mean Absolute Error: 8.605619955913788\n",
            "Random Forest - Mean Squared Error: 115.0006827980698\n",
            "Random Forest - R-squared: 0.20072852857362145\n",
            "\n",
            "\n",
            "Decision Tree - Mean Absolute Error: 8.598423920169466\n",
            "Decision Tree - Mean Squared Error: 114.99384714380075\n",
            "Decision Tree - R-squared: 0.20077603736498562\n",
            "\n",
            "\n",
            "Linear Regression - Mean Absolute Error: 10.079925231491961\n",
            "Linear Regression - Mean Squared Error: 144.3603105688695\n",
            "Linear Regression - R-squared: -0.00332515456930782\n",
            "\n",
            "\n",
            "SVR - Mean Absolute Error: 9.398425818714381\n",
            "SVR - Mean Squared Error: 138.09498673507971\n",
            "SVR - R-squared: 0.040219757319510885\n",
            "\n",
            "\n",
            "Ridge Regression - Mean Absolute Error: 10.079925269495467\n",
            "Ridge Regression - Mean Squared Error: 144.36031066077305\n",
            "Ridge Regression - R-squared: -0.0033251552080506563\n",
            "\n",
            "\n",
            "Gradient Boosting - Mean Absolute Error: 8.596509084067481\n",
            "Gradient Boosting - Mean Squared Error: 115.04997829298088\n",
            "Gradient Boosting - R-squared: 0.20038591771433245\n"
          ]
        }
      ]
    },
    {
      "cell_type": "markdown",
      "source": [
        "# Marital Status"
      ],
      "metadata": {
        "id": "R4zmME-VZ7-v"
      }
    },
    {
      "cell_type": "code",
      "source": [
        "# Split the data into features and target variable\n",
        "X = newdata[['maritaStatus']]\n",
        "y = newdata['Grade']\n",
        "\n",
        "# Split the data into training and testing sets\n",
        "X_train, X_test, y_train, y_test = train_test_split(X, y, test_size=0.3, random_state=42)\n",
        "\n",
        "# Random Forest\n",
        "rf_model = RandomForestRegressor()\n",
        "rf_model.fit(X_train, y_train)\n",
        "y_pred_rf = rf_model.predict(X_test)\n",
        "mae_rf = mean_absolute_error(y_test, y_pred_rf)\n",
        "mse_rf = mean_squared_error(y_test, y_pred_rf)\n",
        "r2_rf = r2_score(y_test, y_pred_rf)\n",
        "\n",
        "print('\\n')\n",
        "print(\"Random Forest - Mean Absolute Error:\", mae_rf)\n",
        "print(\"Random Forest - Mean Squared Error:\", mse_rf)\n",
        "print(\"Random Forest - R-squared:\", r2_rf)\n",
        "\n",
        "# Decision Tree\n",
        "dt_model = DecisionTreeRegressor()\n",
        "dt_model.fit(X_train, y_train)\n",
        "y_pred_dt = dt_model.predict(X_test)\n",
        "mae_dt = mean_absolute_error(y_test, y_pred_dt)\n",
        "mse_dt = mean_squared_error(y_test, y_pred_dt)\n",
        "r2_dt = r2_score(y_test, y_pred_dt)\n",
        "\n",
        "print('\\n')\n",
        "print(\"Decision Tree - Mean Absolute Error:\", mae_dt)\n",
        "print(\"Decision Tree - Mean Squared Error:\", mse_dt)\n",
        "print(\"Decision Tree - R-squared:\", r2_dt)\n",
        "\n",
        "# Linear Regression\n",
        "lr_model = LinearRegression()\n",
        "lr_model.fit(X_train, y_train)\n",
        "y_pred_lr = lr_model.predict(X_test)\n",
        "mae_lr = mean_absolute_error(y_test, y_pred_lr)\n",
        "mse_lr = mean_squared_error(y_test, y_pred_lr)\n",
        "r2_lr = r2_score(y_test, y_pred_lr)\n",
        "\n",
        "print('\\n')\n",
        "print(\"Linear Regression - Mean Absolute Error:\", mae_lr)\n",
        "print(\"Linear Regression - Mean Squared Error:\", mse_lr)\n",
        "print(\"Linear Regression - R-squared:\", r2_lr)\n",
        "\n",
        "# SVR\n",
        "svr_model = SVR()\n",
        "svr_model.fit(X_train, y_train)\n",
        "y_pred_svr = svr_model.predict(X_test)\n",
        "mae_svr = mean_absolute_error(y_test, y_pred_svr)\n",
        "mse_svr = mean_squared_error(y_test, y_pred_svr)\n",
        "r2_svr = r2_score(y_test, y_pred_svr)\n",
        "\n",
        "print('\\n')\n",
        "print(\"SVR - Mean Absolute Error:\", mae_svr)\n",
        "print(\"SVR - Mean Squared Error:\", mse_svr)\n",
        "print(\"SVR - R-squared:\", r2_svr)\n",
        "\n",
        "# Ridge Regression\n",
        "ridge_model = Ridge()\n",
        "ridge_model.fit(X_train, y_train)\n",
        "y_pred_ridge = ridge_model.predict(X_test)\n",
        "mae_rf = mean_absolute_error(y_test, y_pred_ridge)\n",
        "mse_ridge = mean_squared_error(y_test, y_pred_ridge)\n",
        "r2_ridge = r2_score(y_test, y_pred_ridge)\n",
        "print('\\n')\n",
        "print(\"Ridge Regression - Mean Absolute Error:\", mae_rf)\n",
        "print(\"Ridge Regression - Mean Squared Error:\", mse_ridge)\n",
        "print(\"Ridge Regression - R-squared:\", r2_ridge)\n",
        "\n",
        "# Gradient Boosting\n",
        "gb_model = GradientBoostingRegressor()\n",
        "gb_model.fit(X_train, y_train)\n",
        "y_pred_gb = gb_model.predict(X_test)\n",
        "mae_rf = mean_absolute_error(y_test, y_pred_gb)\n",
        "mse_gb = mean_squared_error(y_test, y_pred_gb)\n",
        "r2_gb = r2_score(y_test, y_pred_gb)\n",
        "print('\\n')\n",
        "print(\"Gradient Boosting - Mean Absolute Error:\", mae_rf)\n",
        "print(\"Gradient Boosting - Mean Squared Error:\", mse_gb)\n",
        "print(\"Gradient Boosting - R-squared:\", r2_gb)"
      ],
      "metadata": {
        "colab": {
          "base_uri": "https://localhost:8080/"
        },
        "id": "rU79kvqaaIse",
        "outputId": "02f706a5-c4a6-4468-9fd0-406c26be3eb2"
      },
      "execution_count": null,
      "outputs": [
        {
          "output_type": "stream",
          "name": "stdout",
          "text": [
            "\n",
            "\n",
            "Random Forest - Mean Absolute Error: 9.897326930195758\n",
            "Random Forest - Mean Squared Error: 136.17874531880034\n",
            "Random Forest - R-squared: 0.05353791386547779\n",
            "\n",
            "\n",
            "Decision Tree - Mean Absolute Error: 9.894711381235089\n",
            "Decision Tree - Mean Squared Error: 136.13504933559472\n",
            "Decision Tree - R-squared: 0.05384160730400733\n",
            "\n",
            "\n",
            "Linear Regression - Mean Absolute Error: 9.894711381235089\n",
            "Linear Regression - Mean Squared Error: 136.13504933559472\n",
            "Linear Regression - R-squared: 0.05384160730400733\n",
            "\n",
            "\n",
            "SVR - Mean Absolute Error: 9.84305750350637\n",
            "SVR - Mean Squared Error: 135.84674614309296\n",
            "SVR - R-squared: 0.05584535642341393\n",
            "\n",
            "\n",
            "Ridge Regression - Mean Absolute Error: 9.894760124009569\n",
            "Ridge Regression - Mean Squared Error: 136.13562736693817\n",
            "Ridge Regression - R-squared: 0.05383758990209997\n",
            "\n",
            "\n",
            "Gradient Boosting - Mean Absolute Error: 9.894711899209144\n",
            "Gradient Boosting - Mean Squared Error: 136.13505495043205\n",
            "Gradient Boosting - R-squared: 0.05384156828007114\n"
          ]
        }
      ]
    }
  ]
}